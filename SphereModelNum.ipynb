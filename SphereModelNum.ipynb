{
 "cells": [
  {
   "cell_type": "code",
   "execution_count": null,
   "metadata": {},
   "outputs": [],
   "source": [
    "using DifferentialEquations\n",
    "using Plots; pyplot()"
   ]
  },
  {
   "cell_type": "code",
   "execution_count": null,
   "metadata": {},
   "outputs": [],
   "source": [
    "function droplet_dae(out, du, u, p, t)\n",
    "    α, β, θ₀, a, b, ρm, ρb, hm = p\n",
    "    rb, hb = u\n",
    "    drb, dhb = du\n",
    "    \n",
    "    rm = α*t^β\n",
    "    drm = α*β*t^(β-1)\n",
    "    \n",
    "    θ = θ₀ + a*t^(-b)\n",
    "    \n",
    "    # Conservation of mass\n",
    "    out[1] = ρb/(ρm*hm) * (3*rb*drb + hb*dhb) + 6*rm*drm\n",
    "    # Relate θ to rb, hb\n",
    "    out[2] = sin(θ) - 2*rb*hb/(rb^2+hb^2)\n",
    "end"
   ]
  },
  {
   "cell_type": "code",
   "execution_count": null,
   "metadata": {},
   "outputs": [],
   "source": [
    "function droplet_ode(du, u, p, t)\n",
    "    α, β, θ₀, a, b, ρm, ρb, hm = p\n",
    "    #rb, hb = u\n",
    "    rb = u[1]\n",
    "    hb = u[2]\n",
    "    \n",
    "    rm = α*t^β\n",
    "    drm = α*β*t^(β-1)\n",
    "    \n",
    "    θ = θ₀ + a*t^(-b)\n",
    "    dθ = -a*b*t^(-b-1)\n",
    "    \n",
    "    σ = ρb/(ρm*hm)\n",
    "    \n",
    "    A = [3*σ*rb σ*hb; hb -rb]\n",
    "    b = [-6*rm*drm; cos(θ)*dθ/2 * (hb^2+rb^2)^2/(hb^2-rb^2)]\n",
    "    \n",
    "    du1 = A\\b\n",
    "    du[1] = du1[1]\n",
    "    du[2] = du1[2]\n",
    "    \n",
    "    #println(\"A=$A\")\n",
    "    #println(\"b=$b\")\n",
    "    #println(\"du = $du\")\n",
    "end"
   ]
  },
  {
   "cell_type": "code",
   "execution_count": null,
   "metadata": {},
   "outputs": [],
   "source": [
    "# Define parameters\n",
    "α = 104.\n",
    "β = 0.2\n",
    "θ₀ = 0.29\n",
    "a = 0.27\n",
    "b = .59\n",
    "\n",
    "ρm = 3.\n",
    "ρb = 1.\n",
    "hm = 1.5\n",
    "p = (α, β, θ₀, a, b, ρm, ρb, hm)\n",
    "\n",
    "# Initial conditions\n",
    "rb₀ = 50.\n",
    "hb₀ = 30.\n",
    "\n",
    "R₀ = (rb₀^2+hb₀^2)/(2*hb₀)\n",
    "θi = acos(1-hb₀/R₀)\n",
    "println(\"R₀ = $R₀\")\n",
    "println(\"θi = $(θi*180/pi)\")\n",
    "\n",
    "u₀ = [rb₀; hb₀]\n",
    "du₀ = [1.; -1.]\n",
    "\n",
    "# Solver variables\n",
    "t₀ = ((θi-θ₀)/a)^(-1/b)+.1 # Start at time that θ matches rb₀ and hb₀.\n",
    "println(\"t₀ = $t₀\")\n",
    "tmax = 5\n",
    "tspan = (t₀, tmax)"
   ]
  },
  {
   "cell_type": "code",
   "execution_count": null,
   "metadata": {},
   "outputs": [],
   "source": [
    "function plot_droplet(rb, rm, hb, hm)\n",
    "    R = (rb^2+hb^2)/(2*hb)\n",
    "    θ = acos(1-hb/R)\n",
    "    \n",
    "    # Plot circle\n",
    "    th_cir = linspace(pi/2-θ,pi/2+θ,51)\n",
    "    x_cir = R*cos.(th_cir)\n",
    "    y_cir = R*sin.(th_cir)\n",
    "    plot(x_cir, y_cir)\n",
    "    \n",
    "    # Plot monolayer\n",
    "    x_ml = [-mr, mr, mr, -mr]\n",
    "    y_ml = [0, 0, hm, hm]\n",
    "    plot!(x_ml, y_ml)\n",
    "end"
   ]
  },
  {
   "cell_type": "code",
   "execution_count": null,
   "metadata": {},
   "outputs": [],
   "source": [
    "plot_droplet(50, 50, 20, 2)"
   ]
  },
  {
   "cell_type": "code",
   "execution_count": null,
   "metadata": {},
   "outputs": [],
   "source": [
    "ode_prob = ODEProblem(droplet_ode, u₀, tspan, p)\n",
    "sol = solve(ode_prob, Rosenbrock23(), abstol=1e-8, reltol=1e-8, dtmin=1e-12)"
   ]
  },
  {
   "cell_type": "code",
   "execution_count": null,
   "metadata": {},
   "outputs": [],
   "source": [
    "plot(sol)\n",
    "θ = θ₀+a*sol.t.^(-b)\n",
    "plot!(sol.t, θ*180/pi)\n",
    "rm = α*sol.t.^β\n",
    "plot!(sol.t, rm)\n",
    "ylims!(-10, 100)"
   ]
  },
  {
   "cell_type": "code",
   "execution_count": null,
   "metadata": {},
   "outputs": [],
   "source": [
    "# Solve DAE\n",
    "differential_vars = [true, true];\n",
    "dae_prob = DAEProblem(droplet_dae, du₀, u₀, tspan, p, differential_vars=differential_vars)\n",
    "sol = solve(dae_prob, IDA())"
   ]
  },
  {
   "cell_type": "code",
   "execution_count": null,
   "metadata": {},
   "outputs": [],
   "source": []
  }
 ],
 "metadata": {
  "kernelspec": {
   "display_name": "Julia 0.6.2",
   "language": "julia",
   "name": "julia-0.6"
  },
  "language_info": {
   "file_extension": ".jl",
   "mimetype": "application/julia",
   "name": "julia",
   "version": "0.6.2"
  }
 },
 "nbformat": 4,
 "nbformat_minor": 2
}
