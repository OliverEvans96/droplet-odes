{
 "cells": [
  {
   "cell_type": "code",
   "execution_count": 1,
   "metadata": {},
   "outputs": [
    {
     "data": {
      "text/plain": [
       "Plots.PyPlotBackend()"
      ]
     },
     "execution_count": 1,
     "metadata": {},
     "output_type": "execute_result"
    }
   ],
   "source": [
    "using DifferentialEquations\n",
    "using Plots; pyplot()"
   ]
  },
  {
   "cell_type": "code",
   "execution_count": 2,
   "metadata": {},
   "outputs": [
    {
     "data": {
      "text/plain": [
       "wetting_ode (generic function with 1 method)"
      ]
     },
     "execution_count": 2,
     "metadata": {},
     "output_type": "execute_result"
    }
   ],
   "source": [
    "function wetting_ode(du, u, p, t)\n",
    "    L = u[1]\n",
    "    l = u[2]\n",
    "    V₀, m, Δ, γ, ω, η, t₀, Kₚpc = p\n",
    "    dL = ( 0.1*(4*(V₀-π*m*Δ*l^2)/π)^0.3 * (10*γ*ω/η)^0.1 * 1/(t+t₀)^0.9 \n",
    "        - 2/3*(π*m*Δ*Kₚpc*L/η)/((V₀-π*m*Δ*l^2)*log(l/L)) )\n",
    "    dl = (Kₚpc/η)/(l*log(l/L))\n",
    "    du[1] = dL\n",
    "    du[2] = dl\n",
    "end"
   ]
  },
  {
   "cell_type": "markdown",
   "metadata": {},
   "source": [
    "# Solve with guessed parameters"
   ]
  },
  {
   "cell_type": "code",
   "execution_count": 7,
   "metadata": {},
   "outputs": [],
   "source": [
    "# Parameters\n",
    "# Initial volume (ICs)\n",
    "V₀ = 4./3*pi*10.^3 #Å^3\n",
    "# Porosity (fit)\n",
    "m = .7 # unitless (estimate)\n",
    "# Monolayer height (our observation)\n",
    "Δ = 1.5 # Å\n",
    "# Surface tension (Vega, table 3)\n",
    "γ = 6.0e0 # pN/Å\n",
    "# Lubrication coefficient (fit)\n",
    "ω = 0.01 # unitless (estimate)\n",
    "# Viscosity (from Balasubramanian fig. 2)\n",
    "η = 6.0e-3 # pN-ns/Å^2\n",
    "# Initial time (ICs)\n",
    "t₀ = .5 # ns (estimate?)\n",
    "# Something related to pc (fit)\n",
    "Kₚpc = 1.e3 # pN (estimate)\n",
    "\n",
    "p = [V₀, m, Δ, γ, ω, η, t₀, Kₚpc]\n",
    "\n",
    "# Initial Conditions\n",
    "L₀ = 15.\n",
    "l₀ = 15.\n",
    "u₀ = [L₀, l₀]\n",
    "\n",
    "# Time\n",
    "tmax = 1.\n",
    "tspan = (t₀, tmax);"
   ]
  },
  {
   "cell_type": "code",
   "execution_count": 8,
   "metadata": {},
   "outputs": [
    {
     "name": "stdout",
     "output_type": "stream",
     "text": [
      "Done\n"
     ]
    },
    {
     "name": "stderr",
     "output_type": "stream",
     "text": [
      "\u001b[1m\u001b[33mWARNING: \u001b[39m\u001b[22m\u001b[33mInstability detected. Aborting\u001b[39m\n"
     ]
    },
    {
     "ename": "LoadError",
     "evalue": "\u001b[91mBoundsError: attempt to access 1-element Array{Float64,1} at index [2]\u001b[39m",
     "output_type": "error",
     "traceback": [
      "\u001b[91mBoundsError: attempt to access 1-element Array{Float64,1} at index [2]\u001b[39m",
      "",
      "Stacktrace:",
      " [1] \u001b[1mode_interpolation\u001b[22m\u001b[22m\u001b[1m(\u001b[22m\u001b[22m::Array{Float64,1}, ::Function, ::Void, ::Type{T} where T, ::Array{Float64,1}\u001b[1m)\u001b[22m\u001b[22m at \u001b[1m/home/oliver/.julia/v0.6/OrdinaryDiffEq/src/dense/generic_dense.jl:124\u001b[22m\u001b[22m",
      " [2] \u001b[1mmacro expansion\u001b[22m\u001b[22m at \u001b[1m/home/oliver/.julia/v0.6/DiffEqBase/src/solutions/solution_interface.jl:85\u001b[22m\u001b[22m [inlined]",
      " [3] \u001b[1mapply_recipe\u001b[22m\u001b[22m\u001b[1m(\u001b[22m\u001b[22m::Dict{Symbol,Any}, ::DiffEqBase.ODESolution{Float64,2,Array{Array{Float64,1},1},Void,Void,Array{Float64,1},Array{Array{Array{Float64,1},1},1},DiffEqBase.ODEProblem{Array{Float64,1},Float64,true,Array{Float64,1},#wetting_ode,Void,Void,UniformScaling{Int64},DiffEqBase.StandardODEProblem},OrdinaryDiffEq.Tsit5,OrdinaryDiffEq.InterpolationData{#wetting_ode,Array{Array{Float64,1},1},Array{Float64,1},Array{Array{Array{Float64,1},1},1},OrdinaryDiffEq.Tsit5Cache{Array{Float64,1},Array{Float64,1},Array{Float64,1},Array{Float64,1},OrdinaryDiffEq.Tsit5ConstantCache{Float64,Float64}}}}\u001b[1m)\u001b[22m\u001b[22m at \u001b[1m/home/oliver/.julia/v0.6/RecipesBase/src/RecipesBase.jl:287\u001b[22m\u001b[22m",
      " [4] \u001b[1m_process_userrecipes\u001b[22m\u001b[22m\u001b[1m(\u001b[22m\u001b[22m::Plots.Plot{Plots.PyPlotBackend}, ::Dict{Symbol,Any}, ::Tuple{DiffEqBase.ODESolution{Float64,2,Array{Array{Float64,1},1},Void,Void,Array{Float64,1},Array{Array{Array{Float64,1},1},1},DiffEqBase.ODEProblem{Array{Float64,1},Float64,true,Array{Float64,1},#wetting_ode,Void,Void,UniformScaling{Int64},DiffEqBase.StandardODEProblem},OrdinaryDiffEq.Tsit5,OrdinaryDiffEq.InterpolationData{#wetting_ode,Array{Array{Float64,1},1},Array{Float64,1},Array{Array{Array{Float64,1},1},1},OrdinaryDiffEq.Tsit5Cache{Array{Float64,1},Array{Float64,1},Array{Float64,1},Array{Float64,1},OrdinaryDiffEq.Tsit5ConstantCache{Float64,Float64}}}}}\u001b[1m)\u001b[22m\u001b[22m at \u001b[1m/home/oliver/.julia/v0.6/Plots/src/pipeline.jl:81\u001b[22m\u001b[22m",
      " [5] \u001b[1m_plot!\u001b[22m\u001b[22m\u001b[1m(\u001b[22m\u001b[22m::Plots.Plot{Plots.PyPlotBackend}, ::Dict{Symbol,Any}, ::Tuple{DiffEqBase.ODESolution{Float64,2,Array{Array{Float64,1},1},Void,Void,Array{Float64,1},Array{Array{Array{Float64,1},1},1},DiffEqBase.ODEProblem{Array{Float64,1},Float64,true,Array{Float64,1},#wetting_ode,Void,Void,UniformScaling{Int64},DiffEqBase.StandardODEProblem},OrdinaryDiffEq.Tsit5,OrdinaryDiffEq.InterpolationData{#wetting_ode,Array{Array{Float64,1},1},Array{Float64,1},Array{Array{Array{Float64,1},1},1},OrdinaryDiffEq.Tsit5Cache{Array{Float64,1},Array{Float64,1},Array{Float64,1},Array{Float64,1},OrdinaryDiffEq.Tsit5ConstantCache{Float64,Float64}}}}}\u001b[1m)\u001b[22m\u001b[22m at \u001b[1m/home/oliver/.julia/v0.6/Plots/src/plot.jl:177\u001b[22m\u001b[22m",
      " [6] \u001b[1mplot\u001b[22m\u001b[22m\u001b[1m(\u001b[22m\u001b[22m::DiffEqBase.ODESolution{Float64,2,Array{Array{Float64,1},1},Void,Void,Array{Float64,1},Array{Array{Array{Float64,1},1},1},DiffEqBase.ODEProblem{Array{Float64,1},Float64,true,Array{Float64,1},#wetting_ode,Void,Void,UniformScaling{Int64},DiffEqBase.StandardODEProblem},OrdinaryDiffEq.Tsit5,OrdinaryDiffEq.InterpolationData{#wetting_ode,Array{Array{Float64,1},1},Array{Float64,1},Array{Array{Array{Float64,1},1},1},OrdinaryDiffEq.Tsit5Cache{Array{Float64,1},Array{Float64,1},Array{Float64,1},Array{Float64,1},OrdinaryDiffEq.Tsit5ConstantCache{Float64,Float64}}}}\u001b[1m)\u001b[22m\u001b[22m at \u001b[1m/home/oliver/.julia/v0.6/Plots/src/plot.jl:52\u001b[22m\u001b[22m"
     ]
    }
   ],
   "source": [
    "prob = ODEProblem(wetting_ode, u₀, tspan, p)\n",
    "sol = solve(prob, Tsit5(), abstol=1e-7, reltol=1e-7)\n",
    "println(\"Done\")\n",
    "plot(sol)\n",
    "println(\"Plotted\")"
   ]
  },
  {
   "cell_type": "markdown",
   "metadata": {},
   "source": [
    "# Read data from files"
   ]
  },
  {
   "cell_type": "code",
   "execution_count": null,
   "metadata": {},
   "outputs": [],
   "source": [
    "mr_data = readdlm(\"../pres_data/mr.txt\");\n",
    "br_data = readdlm(\"../pres_data/br.txt\");\n",
    "ca_data = readdlm(\"../pres_data/cos_ca_rad_scaled.txt\");\n",
    "hb_data = readdlm(\"../pres_data/h.txt\");"
   ]
  },
  {
   "cell_type": "code",
   "execution_count": null,
   "metadata": {},
   "outputs": [],
   "source": [
    "sim_num = 5\n",
    "plot(hb_data[:,2*sim_num-1], hb_data[:,2*sim_num])"
   ]
  },
  {
   "cell_type": "markdown",
   "metadata": {},
   "source": [
    "# Optimize parameters"
   ]
  },
  {
   "cell_type": "code",
   "execution_count": null,
   "metadata": {},
   "outputs": [],
   "source": [
    "mr_data"
   ]
  },
  {
   "cell_type": "code",
   "execution_count": null,
   "metadata": {},
   "outputs": [],
   "source": [
    "function sol_data_diff(p)\n",
    "    \"\"\"Difference between numerical solution and data\"\"\"\n",
    "    # Compare to 40A droplet\n",
    "    sim_num = 5\n",
    "    val_col = 2*sim_num\n",
    "    t_col = val_col - 1\n",
    "    \n",
    "    t_data_40A = mr_data[:,t_col]\n",
    "    mr_data_40A = mr_data[:,val_col]\n",
    "    t₀ = t_data_40A[1]\n",
    "    println(\"t₀ = $t₀\")\n",
    "    prob = ODEProblem(wetting_ode, u₀, tspan, p)\n",
    "    sol = solve(prob, Tsit5(), abstol=1e-7, reltol=1e-7)\n",
    "    bh = sol.u[:,1]\n",
    "    rb = sol.u[:,2]\n",
    "    t = sol.t\n",
    "    plot()\n",
    "    plot!(t_data_40A, mr_data_40A)\n",
    "end"
   ]
  },
  {
   "cell_type": "code",
   "execution_count": null,
   "metadata": {},
   "outputs": [],
   "source": [
    "sol_data_diff(p)"
   ]
  },
  {
   "cell_type": "code",
   "execution_count": null,
   "metadata": {},
   "outputs": [],
   "source": []
  }
 ],
 "metadata": {
  "kernelspec": {
   "display_name": "Julia 0.6.2",
   "language": "julia",
   "name": "julia-0.6"
  },
  "language_info": {
   "file_extension": ".jl",
   "mimetype": "application/julia",
   "name": "julia",
   "version": "0.6.2"
  }
 },
 "nbformat": 4,
 "nbformat_minor": 2
}
